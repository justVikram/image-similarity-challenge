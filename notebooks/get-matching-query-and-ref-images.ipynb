{
 "cells": [
  {
   "cell_type": "code",
   "execution_count": 1,
   "outputs": [],
   "source": [
    "import pandas as pd\n",
    "import os"
   ],
   "metadata": {
    "collapsed": false,
    "pycharm": {
     "name": "#%%\n"
    }
   }
  },
  {
   "cell_type": "code",
   "execution_count": 2,
   "outputs": [],
   "source": [
    "df = pd.read_csv('public_ground_truth.csv')\n",
    "df = df.dropna()"
   ],
   "metadata": {
    "collapsed": false,
    "pycharm": {
     "name": "#%%\n"
    }
   }
  },
  {
   "cell_type": "code",
   "execution_count": 3,
   "outputs": [],
   "source": [
    "query_set = df['query_id'].to_list()\n",
    "\n",
    "query_images = list()\n",
    "\n",
    "for img in query_set:\n",
    "    img = str(img) + '.jpg'\n",
    "    query_images.append(img)"
   ],
   "metadata": {
    "collapsed": false,
    "pycharm": {
     "name": "#%%\n"
    }
   }
  },
  {
   "cell_type": "code",
   "execution_count": 4,
   "outputs": [],
   "source": [
    "reference_set = df['reference_id'].to_list()\n",
    "\n",
    "reference_images = list()\n",
    "\n",
    "for img in reference_set:\n",
    "    img = str(img) + '.jpg'\n",
    "    reference_images.append(img)"
   ],
   "metadata": {
    "collapsed": false,
    "pycharm": {
     "name": "#%%\n"
    }
   }
  },
  {
   "cell_type": "code",
   "execution_count": 5,
   "outputs": [],
   "source": [
    "os.mkdir('query_images')\n",
    "os.chdir('query_images')"
   ],
   "metadata": {
    "collapsed": false,
    "pycharm": {
     "name": "#%%\n"
    }
   }
  },
  {
   "cell_type": "code",
   "execution_count": null,
   "outputs": [
    {
     "name": "stdout",
     "output_type": "stream",
     "text": [
      "download: s3://drivendata-competition-fb-isc-data/all/query_images/Q00003.jpg to ./Q00003.jpg\n",
      "download: s3://drivendata-competition-fb-isc-data/all/query_images/Q00004.jpg to ./Q00004.jpg\n",
      "download: s3://drivendata-competition-fb-isc-data/all/query_images/Q00008.jpg to ./Q00008.jpg\n",
      "download: s3://drivendata-competition-fb-isc-data/all/query_images/Q00026.jpg to ./Q00026.jpg\n",
      "download: s3://drivendata-competition-fb-isc-data/all/query_images/Q00028.jpg to ./Q00028.jpg\n",
      "download: s3://drivendata-competition-fb-isc-data/all/query_images/Q00029.jpg to ./Q00029.jpg\n",
      "download: s3://drivendata-competition-fb-isc-data/all/query_images/Q00031.jpg to ./Q00031.jpg\n",
      "download: s3://drivendata-competition-fb-isc-data/all/query_images/Q00035.jpg to ./Q00035.jpg\n",
      "download: s3://drivendata-competition-fb-isc-data/all/query_images/Q00037.jpg to ./Q00037.jpg\n",
      "download: s3://drivendata-competition-fb-isc-data/all/query_images/Q00046.jpg to ./Q00046.jpg\n",
      "download: s3://drivendata-competition-fb-isc-data/all/query_images/Q00049.jpg to ./Q00049.jpg\n",
      "download: s3://drivendata-competition-fb-isc-data/all/query_images/Q00051.jpg to ./Q00051.jpg\n",
      "download: s3://drivendata-competition-fb-isc-data/all/query_images/Q00058.jpg to ./Q00058.jpg\n",
      "download: s3://drivendata-competition-fb-isc-data/all/query_images/Q00061.jpg to ./Q00061.jpg\n",
      "download: s3://drivendata-competition-fb-isc-data/all/query_images/Q00063.jpg to ./Q00063.jpg\n",
      "download: s3://drivendata-competition-fb-isc-data/all/query_images/Q00065.jpg to ./Q00065.jpg\n",
      "download: s3://drivendata-competition-fb-isc-data/all/query_images/Q00071.jpg to ./Q00071.jpg\n",
      "download: s3://drivendata-competition-fb-isc-data/all/query_images/Q00073.jpg to ./Q00073.jpg\n",
      "download: s3://drivendata-competition-fb-isc-data/all/query_images/Q00083.jpg to ./Q00083.jpg\n",
      "download: s3://drivendata-competition-fb-isc-data/all/query_images/Q00084.jpg to ./Q00084.jpg\n",
      "download: s3://drivendata-competition-fb-isc-data/all/query_images/Q00089.jpg to ./Q00089.jpg\n",
      "download: s3://drivendata-competition-fb-isc-data/all/query_images/Q00096.jpg to ./Q00096.jpg\n",
      "download: s3://drivendata-competition-fb-isc-data/all/query_images/Q00109.jpg to ./Q00109.jpg\n",
      "download: s3://drivendata-competition-fb-isc-data/all/query_images/Q00113.jpg to ./Q00113.jpg\n",
      "download: s3://drivendata-competition-fb-isc-data/all/query_images/Q00117.jpg to ./Q00117.jpg\n",
      "download: s3://drivendata-competition-fb-isc-data/all/query_images/Q00123.jpg to ./Q00123.jpg\n",
      "download: s3://drivendata-competition-fb-isc-data/all/query_images/Q00128.jpg to ./Q00128.jpg\n",
      "download: s3://drivendata-competition-fb-isc-data/all/query_images/Q00132.jpg to ./Q00132.jpg\n",
      "download: s3://drivendata-competition-fb-isc-data/all/query_images/Q00149.jpg to ./Q00149.jpg\n",
      "download: s3://drivendata-competition-fb-isc-data/all/query_images/Q00150.jpg to ./Q00150.jpg\n",
      "download: s3://drivendata-competition-fb-isc-data/all/query_images/Q00152.jpg to ./Q00152.jpg\n",
      "download: s3://drivendata-competition-fb-isc-data/all/query_images/Q00155.jpg to ./Q00155.jpg\n",
      "download: s3://drivendata-competition-fb-isc-data/all/query_images/Q00161.jpg to ./Q00161.jpg\n",
      "download: s3://drivendata-competition-fb-isc-data/all/query_images/Q00163.jpg to ./Q00163.jpg\n",
      "download: s3://drivendata-competition-fb-isc-data/all/query_images/Q00171.jpg to ./Q00171.jpg\n",
      "download: s3://drivendata-competition-fb-isc-data/all/query_images/Q00185.jpg to ./Q00185.jpg\n",
      "download: s3://drivendata-competition-fb-isc-data/all/query_images/Q00187.jpg to ./Q00187.jpg\n",
      "download: s3://drivendata-competition-fb-isc-data/all/query_images/Q00198.jpg to ./Q00198.jpg\n",
      "download: s3://drivendata-competition-fb-isc-data/all/query_images/Q00205.jpg to ./Q00205.jpg\n",
      "download: s3://drivendata-competition-fb-isc-data/all/query_images/Q00206.jpg to ./Q00206.jpg\n",
      "download: s3://drivendata-competition-fb-isc-data/all/query_images/Q00208.jpg to ./Q00208.jpg\n",
      "download: s3://drivendata-competition-fb-isc-data/all/query_images/Q00210.jpg to ./Q00210.jpg\n",
      "download: s3://drivendata-competition-fb-isc-data/all/query_images/Q00211.jpg to ./Q00211.jpg\n",
      "download: s3://drivendata-competition-fb-isc-data/all/query_images/Q00214.jpg to ./Q00214.jpg\n",
      "download: s3://drivendata-competition-fb-isc-data/all/query_images/Q00217.jpg to ./Q00217.jpg\n",
      "download: s3://drivendata-competition-fb-isc-data/all/query_images/Q00220.jpg to ./Q00220.jpg\n",
      "download: s3://drivendata-competition-fb-isc-data/all/query_images/Q00221.jpg to ./Q00221.jpg\n",
      "download: s3://drivendata-competition-fb-isc-data/all/query_images/Q00237.jpg to ./Q00237.jpg\n",
      "download: s3://drivendata-competition-fb-isc-data/all/query_images/Q00255.jpg to ./Q00255.jpg\n",
      "download: s3://drivendata-competition-fb-isc-data/all/query_images/Q00259.jpg to ./Q00259.jpg\n",
      "download: s3://drivendata-competition-fb-isc-data/all/query_images/Q00260.jpg to ./Q00260.jpg\n",
      "download: s3://drivendata-competition-fb-isc-data/all/query_images/Q00264.jpg to ./Q00264.jpg\n",
      "download: s3://drivendata-competition-fb-isc-data/all/query_images/Q00274.jpg to ./Q00274.jpg\n",
      "download: s3://drivendata-competition-fb-isc-data/all/query_images/Q00279.jpg to ./Q00279.jpg\n",
      "download: s3://drivendata-competition-fb-isc-data/all/query_images/Q00283.jpg to ./Q00283.jpg\n",
      "download: s3://drivendata-competition-fb-isc-data/all/query_images/Q00291.jpg to ./Q00291.jpg\n",
      "download: s3://drivendata-competition-fb-isc-data/all/query_images/Q00294.jpg to ./Q00294.jpg\n",
      "download: s3://drivendata-competition-fb-isc-data/all/query_images/Q00299.jpg to ./Q00299.jpg\n",
      "download: s3://drivendata-competition-fb-isc-data/all/query_images/Q00300.jpg to ./Q00300.jpg\n",
      "download: s3://drivendata-competition-fb-isc-data/all/query_images/Q00310.jpg to ./Q00310.jpg\n",
      "download: s3://drivendata-competition-fb-isc-data/all/query_images/Q00313.jpg to ./Q00313.jpg\n",
      "download: s3://drivendata-competition-fb-isc-data/all/query_images/Q00316.jpg to ./Q00316.jpg\n",
      "download: s3://drivendata-competition-fb-isc-data/all/query_images/Q00322.jpg to ./Q00322.jpg\n",
      "download: s3://drivendata-competition-fb-isc-data/all/query_images/Q00323.jpg to ./Q00323.jpg\n",
      "download: s3://drivendata-competition-fb-isc-data/all/query_images/Q00324.jpg to ./Q00324.jpg\n",
      "download: s3://drivendata-competition-fb-isc-data/all/query_images/Q00326.jpg to ./Q00326.jpg\n",
      "download: s3://drivendata-competition-fb-isc-data/all/query_images/Q00329.jpg to ./Q00329.jpg\n",
      "download: s3://drivendata-competition-fb-isc-data/all/query_images/Q00338.jpg to ./Q00338.jpg\n",
      "download: s3://drivendata-competition-fb-isc-data/all/query_images/Q00347.jpg to ./Q00347.jpg\n",
      "download: s3://drivendata-competition-fb-isc-data/all/query_images/Q00353.jpg to ./Q00353.jpg\n",
      "download: s3://drivendata-competition-fb-isc-data/all/query_images/Q00359.jpg to ./Q00359.jpg\n",
      "download: s3://drivendata-competition-fb-isc-data/all/query_images/Q00363.jpg to ./Q00363.jpg\n",
      "download: s3://drivendata-competition-fb-isc-data/all/query_images/Q00364.jpg to ./Q00364.jpg\n",
      "download: s3://drivendata-competition-fb-isc-data/all/query_images/Q00365.jpg to ./Q00365.jpg\n",
      "download: s3://drivendata-competition-fb-isc-data/all/query_images/Q00369.jpg to ./Q00369.jpg\n",
      "download: s3://drivendata-competition-fb-isc-data/all/query_images/Q00375.jpg to ./Q00375.jpg\n",
      "download: s3://drivendata-competition-fb-isc-data/all/query_images/Q00388.jpg to ./Q00388.jpg\n",
      "download: s3://drivendata-competition-fb-isc-data/all/query_images/Q00389.jpg to ./Q00389.jpg\n",
      "download: s3://drivendata-competition-fb-isc-data/all/query_images/Q00392.jpg to ./Q00392.jpg\n",
      "download: s3://drivendata-competition-fb-isc-data/all/query_images/Q00393.jpg to ./Q00393.jpg\n",
      "download: s3://drivendata-competition-fb-isc-data/all/query_images/Q00396.jpg to ./Q00396.jpg\n",
      "download: s3://drivendata-competition-fb-isc-data/all/query_images/Q00403.jpg to ./Q00403.jpg\n",
      "download: s3://drivendata-competition-fb-isc-data/all/query_images/Q00409.jpg to ./Q00409.jpg\n",
      "download: s3://drivendata-competition-fb-isc-data/all/query_images/Q00419.jpg to ./Q00419.jpg\n",
      "download: s3://drivendata-competition-fb-isc-data/all/query_images/Q00423.jpg to ./Q00423.jpg\n",
      "download: s3://drivendata-competition-fb-isc-data/all/query_images/Q00433.jpg to ./Q00433.jpg\n",
      "download: s3://drivendata-competition-fb-isc-data/all/query_images/Q00434.jpg to ./Q00434.jpg\n",
      "download: s3://drivendata-competition-fb-isc-data/all/query_images/Q00439.jpg to ./Q00439.jpg\n",
      "download: s3://drivendata-competition-fb-isc-data/all/query_images/Q00450.jpg to ./Q00450.jpg\n",
      "download: s3://drivendata-competition-fb-isc-data/all/query_images/Q00460.jpg to ./Q00460.jpg\n",
      "download: s3://drivendata-competition-fb-isc-data/all/query_images/Q00470.jpg to ./Q00470.jpg\n",
      "download: s3://drivendata-competition-fb-isc-data/all/query_images/Q00471.jpg to ./Q00471.jpg\n",
      "download: s3://drivendata-competition-fb-isc-data/all/query_images/Q00472.jpg to ./Q00472.jpg\n",
      "download: s3://drivendata-competition-fb-isc-data/all/query_images/Q00477.jpg to ./Q00477.jpg\n",
      "download: s3://drivendata-competition-fb-isc-data/all/query_images/Q00480.jpg to ./Q00480.jpg\n",
      "download: s3://drivendata-competition-fb-isc-data/all/query_images/Q00488.jpg to ./Q00488.jpg\n",
      "download: s3://drivendata-competition-fb-isc-data/all/query_images/Q00489.jpg to ./Q00489.jpg\n",
      "download: s3://drivendata-competition-fb-isc-data/all/query_images/Q00495.jpg to ./Q00495.jpg\n",
      "download: s3://drivendata-competition-fb-isc-data/all/query_images/Q00496.jpg to ./Q00496.jpg\n",
      "download: s3://drivendata-competition-fb-isc-data/all/query_images/Q00497.jpg to ./Q00497.jpg\n",
      "download: s3://drivendata-competition-fb-isc-data/all/query_images/Q00506.jpg to ./Q00506.jpg\n",
      "download: s3://drivendata-competition-fb-isc-data/all/query_images/Q00510.jpg to ./Q00510.jpg\n",
      "download: s3://drivendata-competition-fb-isc-data/all/query_images/Q00511.jpg to ./Q00511.jpg\n",
      "download: s3://drivendata-competition-fb-isc-data/all/query_images/Q00514.jpg to ./Q00514.jpg\n",
      "download: s3://drivendata-competition-fb-isc-data/all/query_images/Q00521.jpg to ./Q00521.jpg\n",
      "download: s3://drivendata-competition-fb-isc-data/all/query_images/Q00523.jpg to ./Q00523.jpg\n",
      "download: s3://drivendata-competition-fb-isc-data/all/query_images/Q00525.jpg to ./Q00525.jpg\n",
      "download: s3://drivendata-competition-fb-isc-data/all/query_images/Q00531.jpg to ./Q00531.jpg\n",
      "download: s3://drivendata-competition-fb-isc-data/all/query_images/Q00537.jpg to ./Q00537.jpg\n",
      "download: s3://drivendata-competition-fb-isc-data/all/query_images/Q00541.jpg to ./Q00541.jpg\n",
      "download: s3://drivendata-competition-fb-isc-data/all/query_images/Q00547.jpg to ./Q00547.jpg\n",
      "download: s3://drivendata-competition-fb-isc-data/all/query_images/Q00549.jpg to ./Q00549.jpg\n",
      "download: s3://drivendata-competition-fb-isc-data/all/query_images/Q00550.jpg to ./Q00550.jpg\n",
      "download: s3://drivendata-competition-fb-isc-data/all/query_images/Q00552.jpg to ./Q00552.jpg\n",
      "download: s3://drivendata-competition-fb-isc-data/all/query_images/Q00565.jpg to ./Q00565.jpg\n",
      "download: s3://drivendata-competition-fb-isc-data/all/query_images/Q00567.jpg to ./Q00567.jpg\n",
      "download: s3://drivendata-competition-fb-isc-data/all/query_images/Q00571.jpg to ./Q00571.jpg\n",
      "download: s3://drivendata-competition-fb-isc-data/all/query_images/Q00574.jpg to ./Q00574.jpg\n",
      "download: s3://drivendata-competition-fb-isc-data/all/query_images/Q00582.jpg to ./Q00582.jpg\n",
      "download: s3://drivendata-competition-fb-isc-data/all/query_images/Q00584.jpg to ./Q00584.jpg\n",
      "download: s3://drivendata-competition-fb-isc-data/all/query_images/Q00586.jpg to ./Q00586.jpg\n",
      "download: s3://drivendata-competition-fb-isc-data/all/query_images/Q00595.jpg to ./Q00595.jpg\n",
      "download: s3://drivendata-competition-fb-isc-data/all/query_images/Q00596.jpg to ./Q00596.jpg\n",
      "download: s3://drivendata-competition-fb-isc-data/all/query_images/Q00597.jpg to ./Q00597.jpg\n",
      "download: s3://drivendata-competition-fb-isc-data/all/query_images/Q00602.jpg to ./Q00602.jpg\n",
      "download: s3://drivendata-competition-fb-isc-data/all/query_images/Q00607.jpg to ./Q00607.jpg\n",
      "download: s3://drivendata-competition-fb-isc-data/all/query_images/Q00609.jpg to ./Q00609.jpg\n",
      "download: s3://drivendata-competition-fb-isc-data/all/query_images/Q00620.jpg to ./Q00620.jpg\n",
      "download: s3://drivendata-competition-fb-isc-data/all/query_images/Q00638.jpg to ./Q00638.jpg\n",
      "download: s3://drivendata-competition-fb-isc-data/all/query_images/Q00639.jpg to ./Q00639.jpg\n",
      "download: s3://drivendata-competition-fb-isc-data/all/query_images/Q00648.jpg to ./Q00648.jpg\n",
      "download: s3://drivendata-competition-fb-isc-data/all/query_images/Q00649.jpg to ./Q00649.jpg\n",
      "download: s3://drivendata-competition-fb-isc-data/all/query_images/Q00650.jpg to ./Q00650.jpg\n",
      "download: s3://drivendata-competition-fb-isc-data/all/query_images/Q00652.jpg to ./Q00652.jpg\n",
      "download: s3://drivendata-competition-fb-isc-data/all/query_images/Q00654.jpg to ./Q00654.jpg\n",
      "download: s3://drivendata-competition-fb-isc-data/all/query_images/Q00667.jpg to ./Q00667.jpg\n",
      "download: s3://drivendata-competition-fb-isc-data/all/query_images/Q00674.jpg to ./Q00674.jpg\n",
      "download: s3://drivendata-competition-fb-isc-data/all/query_images/Q00680.jpg to ./Q00680.jpg\n",
      "download: s3://drivendata-competition-fb-isc-data/all/query_images/Q00685.jpg to ./Q00685.jpg\n",
      "download: s3://drivendata-competition-fb-isc-data/all/query_images/Q00686.jpg to ./Q00686.jpg\n",
      "download: s3://drivendata-competition-fb-isc-data/all/query_images/Q00687.jpg to ./Q00687.jpg\n",
      "download: s3://drivendata-competition-fb-isc-data/all/query_images/Q00694.jpg to ./Q00694.jpg\n",
      "download: s3://drivendata-competition-fb-isc-data/all/query_images/Q00695.jpg to ./Q00695.jpg\n",
      "download: s3://drivendata-competition-fb-isc-data/all/query_images/Q00698.jpg to ./Q00698.jpg\n",
      "download: s3://drivendata-competition-fb-isc-data/all/query_images/Q00720.jpg to ./Q00720.jpg\n",
      "download: s3://drivendata-competition-fb-isc-data/all/query_images/Q00742.jpg to ./Q00742.jpg\n",
      "download: s3://drivendata-competition-fb-isc-data/all/query_images/Q00743.jpg to ./Q00743.jpg\n",
      "download: s3://drivendata-competition-fb-isc-data/all/query_images/Q00746.jpg to ./Q00746.jpg\n",
      "download: s3://drivendata-competition-fb-isc-data/all/query_images/Q00748.jpg to ./Q00748.jpg\n",
      "download: s3://drivendata-competition-fb-isc-data/all/query_images/Q00752.jpg to ./Q00752.jpg\n",
      "download: s3://drivendata-competition-fb-isc-data/all/query_images/Q00758.jpg to ./Q00758.jpg\n",
      "download: s3://drivendata-competition-fb-isc-data/all/query_images/Q00770.jpg to ./Q00770.jpg\n",
      "download: s3://drivendata-competition-fb-isc-data/all/query_images/Q00774.jpg to ./Q00774.jpg\n",
      "download: s3://drivendata-competition-fb-isc-data/all/query_images/Q00782.jpg to ./Q00782.jpg\n",
      "download: s3://drivendata-competition-fb-isc-data/all/query_images/Q00789.jpg to ./Q00789.jpg\n",
      "download: s3://drivendata-competition-fb-isc-data/all/query_images/Q00794.jpg to ./Q00794.jpg\n",
      "download: s3://drivendata-competition-fb-isc-data/all/query_images/Q00795.jpg to ./Q00795.jpg\n",
      "download: s3://drivendata-competition-fb-isc-data/all/query_images/Q00797.jpg to ./Q00797.jpg\n",
      "download: s3://drivendata-competition-fb-isc-data/all/query_images/Q00814.jpg to ./Q00814.jpg\n",
      "download: s3://drivendata-competition-fb-isc-data/all/query_images/Q00815.jpg to ./Q00815.jpg\n",
      "download: s3://drivendata-competition-fb-isc-data/all/query_images/Q00820.jpg to ./Q00820.jpg\n",
      "download: s3://drivendata-competition-fb-isc-data/all/query_images/Q00824.jpg to ./Q00824.jpg\n",
      "download: s3://drivendata-competition-fb-isc-data/all/query_images/Q00846.jpg to ./Q00846.jpg\n",
      "download: s3://drivendata-competition-fb-isc-data/all/query_images/Q00848.jpg to ./Q00848.jpg\n",
      "download: s3://drivendata-competition-fb-isc-data/all/query_images/Q00854.jpg to ./Q00854.jpg\n",
      "download: s3://drivendata-competition-fb-isc-data/all/query_images/Q00861.jpg to ./Q00861.jpg\n",
      "download: s3://drivendata-competition-fb-isc-data/all/query_images/Q00870.jpg to ./Q00870.jpg\n",
      "download: s3://drivendata-competition-fb-isc-data/all/query_images/Q00874.jpg to ./Q00874.jpg\n",
      "download: s3://drivendata-competition-fb-isc-data/all/query_images/Q00877.jpg to ./Q00877.jpg\n",
      "download: s3://drivendata-competition-fb-isc-data/all/query_images/Q00880.jpg to ./Q00880.jpg\n",
      "download: s3://drivendata-competition-fb-isc-data/all/query_images/Q00881.jpg to ./Q00881.jpg\n",
      "download: s3://drivendata-competition-fb-isc-data/all/query_images/Q00889.jpg to ./Q00889.jpg\n",
      "download: s3://drivendata-competition-fb-isc-data/all/query_images/Q00901.jpg to ./Q00901.jpg\n",
      "download: s3://drivendata-competition-fb-isc-data/all/query_images/Q00906.jpg to ./Q00906.jpg\n",
      "download: s3://drivendata-competition-fb-isc-data/all/query_images/Q00907.jpg to ./Q00907.jpg\n",
      "download: s3://drivendata-competition-fb-isc-data/all/query_images/Q00910.jpg to ./Q00910.jpg\n",
      "download: s3://drivendata-competition-fb-isc-data/all/query_images/Q00911.jpg to ./Q00911.jpg\n",
      "download: s3://drivendata-competition-fb-isc-data/all/query_images/Q00912.jpg to ./Q00912.jpg\n",
      "download: s3://drivendata-competition-fb-isc-data/all/query_images/Q00917.jpg to ./Q00917.jpg\n",
      "download: s3://drivendata-competition-fb-isc-data/all/query_images/Q00919.jpg to ./Q00919.jpg\n",
      "download: s3://drivendata-competition-fb-isc-data/all/query_images/Q00925.jpg to ./Q00925.jpg\n",
      "download: s3://drivendata-competition-fb-isc-data/all/query_images/Q00926.jpg to ./Q00926.jpg\n",
      "download: s3://drivendata-competition-fb-isc-data/all/query_images/Q00939.jpg to ./Q00939.jpg\n",
      "download: s3://drivendata-competition-fb-isc-data/all/query_images/Q00940.jpg to ./Q00940.jpg\n",
      "download: s3://drivendata-competition-fb-isc-data/all/query_images/Q00946.jpg to ./Q00946.jpg\n",
      "download: s3://drivendata-competition-fb-isc-data/all/query_images/Q00947.jpg to ./Q00947.jpg\n",
      "download: s3://drivendata-competition-fb-isc-data/all/query_images/Q00955.jpg to ./Q00955.jpg\n",
      "download: s3://drivendata-competition-fb-isc-data/all/query_images/Q00958.jpg to ./Q00958.jpg\n",
      "download: s3://drivendata-competition-fb-isc-data/all/query_images/Q00960.jpg to ./Q00960.jpg\n",
      "download: s3://drivendata-competition-fb-isc-data/all/query_images/Q00962.jpg to ./Q00962.jpg\n",
      "download: s3://drivendata-competition-fb-isc-data/all/query_images/Q00966.jpg to ./Q00966.jpg\n",
      "download: s3://drivendata-competition-fb-isc-data/all/query_images/Q00968.jpg to ./Q00968.jpg\n",
      "download: s3://drivendata-competition-fb-isc-data/all/query_images/Q00973.jpg to ./Q00973.jpg\n",
      "download: s3://drivendata-competition-fb-isc-data/all/query_images/Q00976.jpg to ./Q00976.jpg\n",
      "download: s3://drivendata-competition-fb-isc-data/all/query_images/Q00977.jpg to ./Q00977.jpg\n",
      "download: s3://drivendata-competition-fb-isc-data/all/query_images/Q00978.jpg to ./Q00978.jpg\n",
      "download: s3://drivendata-competition-fb-isc-data/all/query_images/Q00985.jpg to ./Q00985.jpg\n",
      "download: s3://drivendata-competition-fb-isc-data/all/query_images/Q00986.jpg to ./Q00986.jpg\n",
      "download: s3://drivendata-competition-fb-isc-data/all/query_images/Q00987.jpg to ./Q00987.jpg\n",
      "download: s3://drivendata-competition-fb-isc-data/all/query_images/Q00991.jpg to ./Q00991.jpg\n",
      "download: s3://drivendata-competition-fb-isc-data/all/query_images/Q01006.jpg to ./Q01006.jpg\n",
      "download: s3://drivendata-competition-fb-isc-data/all/query_images/Q01008.jpg to ./Q01008.jpg\n",
      "download: s3://drivendata-competition-fb-isc-data/all/query_images/Q01012.jpg to ./Q01012.jpg\n",
      "download: s3://drivendata-competition-fb-isc-data/all/query_images/Q01021.jpg to ./Q01021.jpg\n",
      "download: s3://drivendata-competition-fb-isc-data/all/query_images/Q01023.jpg to ./Q01023.jpg\n",
      "download: s3://drivendata-competition-fb-isc-data/all/query_images/Q01044.jpg to ./Q01044.jpg\n",
      "download: s3://drivendata-competition-fb-isc-data/all/query_images/Q01055.jpg to ./Q01055.jpg\n",
      "download: s3://drivendata-competition-fb-isc-data/all/query_images/Q01066.jpg to ./Q01066.jpg\n",
      "download: s3://drivendata-competition-fb-isc-data/all/query_images/Q01071.jpg to ./Q01071.jpg\n",
      "download: s3://drivendata-competition-fb-isc-data/all/query_images/Q01081.jpg to ./Q01081.jpg\n",
      "download: s3://drivendata-competition-fb-isc-data/all/query_images/Q01086.jpg to ./Q01086.jpg\n",
      "download: s3://drivendata-competition-fb-isc-data/all/query_images/Q01087.jpg to ./Q01087.jpg\n",
      "download: s3://drivendata-competition-fb-isc-data/all/query_images/Q01091.jpg to ./Q01091.jpg\n",
      "download: s3://drivendata-competition-fb-isc-data/all/query_images/Q01092.jpg to ./Q01092.jpg\n",
      "download: s3://drivendata-competition-fb-isc-data/all/query_images/Q01094.jpg to ./Q01094.jpg\n",
      "download: s3://drivendata-competition-fb-isc-data/all/query_images/Q01105.jpg to ./Q01105.jpg\n",
      "download: s3://drivendata-competition-fb-isc-data/all/query_images/Q01108.jpg to ./Q01108.jpg\n",
      "download: s3://drivendata-competition-fb-isc-data/all/query_images/Q01109.jpg to ./Q01109.jpg\n",
      "download: s3://drivendata-competition-fb-isc-data/all/query_images/Q01113.jpg to ./Q01113.jpg\n",
      "Completed 27.4 KiB/27.4 KiB (18.8 KiB/s) with 1 file(s) remaining\r"
     ]
    },
    {
     "name": "stderr",
     "output_type": "stream",
     "text": [
      "cancelled: ctrl-c received                                       \n"
     ]
    },
    {
     "name": "stdout",
     "output_type": "stream",
     "text": [
      "download: s3://drivendata-competition-fb-isc-data/all/query_images/Q01117.jpg to ./Q01117.jpg\n",
      "download: s3://drivendata-competition-fb-isc-data/all/query_images/Q01118.jpg to ./Q01118.jpg\n",
      "download: s3://drivendata-competition-fb-isc-data/all/query_images/Q01120.jpg to ./Q01120.jpg\n",
      "download: s3://drivendata-competition-fb-isc-data/all/query_images/Q01128.jpg to ./Q01128.jpg\n",
      "download: s3://drivendata-competition-fb-isc-data/all/query_images/Q01129.jpg to ./Q01129.jpg\n",
      "download: s3://drivendata-competition-fb-isc-data/all/query_images/Q01131.jpg to ./Q01131.jpg\n"
     ]
    },
    {
     "name": "stderr",
     "output_type": "stream",
     "text": [
      "fatal error: \n"
     ]
    }
   ],
   "source": [
    "for image in query_images:\n",
    "    download_query_image = f'aws s3 cp s3://drivendata-competition-fb-isc-data/all/query_images/{image} ./ --no-sign-request'\n",
    "    os.system(download_query_image)"
   ],
   "metadata": {
    "collapsed": false,
    "pycharm": {
     "name": "#%%\n",
     "is_executing": true
    }
   }
  },
  {
   "cell_type": "code",
   "execution_count": 1,
   "outputs": [
    {
     "ename": "NameError",
     "evalue": "name 'reference_images' is not defined",
     "output_type": "error",
     "traceback": [
      "\u001B[0;31m---------------------------------------------------------------------------\u001B[0m",
      "\u001B[0;31mNameError\u001B[0m                                 Traceback (most recent call last)",
      "\u001B[0;32m/var/folders/3k/g4m46w4s6991858vdtn7rq700000gn/T/ipykernel_69904/1980298296.py\u001B[0m in \u001B[0;36m<module>\u001B[0;34m\u001B[0m\n\u001B[0;32m----> 1\u001B[0;31m \u001B[0;32mfor\u001B[0m \u001B[0mimage\u001B[0m \u001B[0;32min\u001B[0m \u001B[0mreference_images\u001B[0m\u001B[0;34m:\u001B[0m\u001B[0;34m\u001B[0m\u001B[0;34m\u001B[0m\u001B[0m\n\u001B[0m\u001B[1;32m      2\u001B[0m     \u001B[0mdownload_reference_image\u001B[0m \u001B[0;34m=\u001B[0m \u001B[0;34mf'aws s3 cp s3://drivendata-competition-fb-isc-data/all/query_images/{image} ./ --no-sign-request'\u001B[0m\u001B[0;34m\u001B[0m\u001B[0;34m\u001B[0m\u001B[0m\n\u001B[1;32m      3\u001B[0m     \u001B[0mos\u001B[0m\u001B[0;34m.\u001B[0m\u001B[0msystem\u001B[0m\u001B[0;34m(\u001B[0m\u001B[0mdownload_reference_image\u001B[0m\u001B[0;34m)\u001B[0m\u001B[0;34m\u001B[0m\u001B[0;34m\u001B[0m\u001B[0m\n",
      "\u001B[0;31mNameError\u001B[0m: name 'reference_images' is not defined"
     ]
    }
   ],
   "source": [
    "for image in reference_images:\n",
    "    download_reference_image = f'aws s3 cp s3://drivendata-competition-fb-isc-data/all/reference_images/{image} ./ --no-sign-request'\n",
    "    os.system(download_reference_image)"
   ],
   "metadata": {
    "collapsed": false,
    "pycharm": {
     "name": "#%%\n"
    }
   }
  }
 ],
 "metadata": {
  "kernelspec": {
   "display_name": "Python 3",
   "language": "python",
   "name": "python3"
  },
  "language_info": {
   "codemirror_mode": {
    "name": "ipython",
    "version": 2
   },
   "file_extension": ".py",
   "mimetype": "text/x-python",
   "name": "python",
   "nbconvert_exporter": "python",
   "pygments_lexer": "ipython2",
   "version": "2.7.6"
  }
 },
 "nbformat": 4,
 "nbformat_minor": 0
}