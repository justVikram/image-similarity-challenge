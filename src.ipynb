{
 "cells": [
  {
   "cell_type": "code",
   "execution_count": null,
   "id": "d19b8a1d",
   "metadata": {},
   "outputs": [],
   "source": [
    "# 5D01 - Image Similarity Challenge : Matching Track\n",
    "# Chidambar Hunakunti - 01fe19bcs219\n",
    "# Aditya Vikram - 01fe19bcs220\n",
    "# Rishab Jain - 01fe19bcs228\n",
    "# Harshita Hiremath - 01fe19bcs235"
   ]
  },
  {
   "cell_type": "code",
   "execution_count": null,
   "id": "7c16db4d",
   "metadata": {},
   "outputs": [],
   "source": [
    "#Import neccessary libraries\n",
    "import os\n",
    "import matplotlib.pyplot as plt\n",
    "import numpy as np\n",
    "import pandas as pd\n",
    "from tensorflow.keras.preprocessing.image import ImageDataGenerator, array_to_img, img_to_array, load_img\n",
    "from tensorflow.keras.applications import EfficientNetB7\n",
    "from tensorflow.keras import models, Model\n",
    "from annoy import AnnoyIndex\n",
    "from scipy import spatial\n",
    "from tensorflow.keras.models import load_model"
   ]
  },
  {
   "cell_type": "code",
   "execution_count": null,
   "id": "25fcb662",
   "metadata": {},
   "outputs": [],
   "source": [
    "ref_id = []  #store reference images names\n",
    "score = []  #store confidence\n",
    "reference_id = []  #store reference matching query names\n",
    "query_id = []  #store query image names"
   ]
  },
  {
   "cell_type": "code",
   "execution_count": null,
   "id": "0c413178",
   "metadata": {},
   "outputs": [],
   "source": [
    "def store_query(path):  #Stores query images\n",
    "    for t in os.listdir(path):\n",
    "        file_name = os.path.basename(t)\n",
    "        file_name_without_extension = os.path.splitext(file_name)[0]\n",
    "        query_id.append(file_name_without_extension)\n",
    "\n",
    "\n",
    "def load_images_from_folder(folder):  #loads images from folder\n",
    "    images = []\n",
    "    for filename in os.listdir(folder):\n",
    "        img = load_img(os.path.join(folder, filename), target_size=(600, 600))\n",
    "        ref_id.append(os.path.basename(filename))\n",
    "        img = img_to_array(img)\n",
    "        img = img.reshape((1,) + img.shape)\n",
    "        if img is not None:\n",
    "            images.append(img)\n",
    "    return images\n",
    "\n",
    "\n",
    "def get_all_images():  #gets reference images\n",
    "    images1 = load_images_from_folder('reference')\n",
    "    all_imgs_arr = np.array([images1])\n",
    "    return all_imgs_arr\n",
    "\n",
    "\n",
    "def create_model():  #creates EfficientB7 model\n",
    "    effb7 = EfficientNetB7(include_top=True)\n",
    "    model2 = Model(effb7.input, effb7.layers[-2].output)\n",
    "    model2.save('effb7.h5')\n",
    "    return model2\n",
    "\n",
    "\n",
    "def get_preds(all_imgs_arr):  #gets image prediction\n",
    "    preds_all = np.zeros((len(all_imgs_arr), 2560))\n",
    "    for j in range(all_imgs_arr.shape[0]):\n",
    "        preds_all[j] = model.predict(all_imgs_arr[j])\n",
    "\n",
    "    return preds_all\n",
    "\n",
    "\n",
    "def load_model_from_path(filepath):  #load model from path\n",
    "    model = load_model(filepath)\n",
    "    return model\n",
    "\n",
    "\n",
    "def load_images_preds(numpy_filepath):  #load images prediction file\n",
    "    data = np.load(numpy_filepath)\n",
    "    img = data['images']\n",
    "    preds = data['preds']\n",
    "    return img, preds\n",
    "\n",
    "\n",
    "def show_img(array):  #display images\n",
    "    array = array.reshape(600, 600, 3)\n",
    "    numpy_image = img_to_array(array)\n",
    "    plt.imshow(np.uint8(numpy_image))\n",
    "    plt.show()\n",
    "\n",
    "\n",
    "def load_images_from_file(filepath):  #load images from file\n",
    "    img = load_img(filepath, target_size=(600, 600))\n",
    "    img = img_to_array(img)\n",
    "    img = img.reshape((1,) + img.shape)\n",
    "    return img"
   ]
  },
  {
   "cell_type": "code",
   "execution_count": null,
   "id": "c3361f7b",
   "metadata": {},
   "outputs": [],
   "source": [
    "def get_nearest_neighbor_and_similarity(preds1, K):  #finds k nearest neighbors\n",
    "    dims = 2560\n",
    "    n_nearest_neighbors = K + 1\n",
    "    trees = 10000\n",
    "    file_index_to_file_vector = {}\n",
    "\n",
    "    # build ann index\n",
    "    t = AnnoyIndex(dims)\n",
    "    for i in range(preds1.shape[0]):\n",
    "        file_vector = preds1[i]\n",
    "        file_index_to_file_vector[i] = file_vector\n",
    "        t.add_item(i, file_vector)\n",
    "    t.build(trees)\n",
    "\n",
    "    for i in range(preds1.shape[0]):\n",
    "        master_vector = file_index_to_file_vector[i]\n",
    "        similarities = []\n",
    "        nearest_neighbors = t.get_nns_by_item(i, n_nearest_neighbors)\n",
    "    for j in nearest_neighbors:\n",
    "        neighbor_vector = preds1[j]\n",
    "        similarity = 1 - spatial.distance.cosine(master_vector, neighbor_vector)\n",
    "        rounded_similarity = int((similarity * 10000)) / 10000.0\n",
    "        similarities.append(rounded_similarity)\n",
    "    return similarities, nearest_neighbors"
   ]
  },
  {
   "cell_type": "code",
   "execution_count": null,
   "id": "09ad73a7",
   "metadata": {},
   "outputs": [],
   "source": [
    "def get_similar_images(similarities, nearest_neighbors, images1):  #get similar images from nearest neighbors\n",
    "    j = 0\n",
    "    for i in nearest_neighbors:\n",
    "        show_img(images1[i])\n",
    "        print(similarities[j])\n",
    "        j += 1"
   ]
  },
  {
   "cell_type": "code",
   "execution_count": null,
   "id": "c7c8911d",
   "metadata": {},
   "outputs": [],
   "source": [
    "def main(new_image_file, model_file, image_pred_file, K):\n",
    "    model = load_model_from_path(model_file)\n",
    "    images, preds = load_images_preds(image_pred_file)\n",
    "    new_image = load_images_from_file(new_image_file)\n",
    "    new_image_predict = model.predict(new_image)\n",
    "    images_arr = np.append(images, new_image.reshape(1, 1, 600, 600, 3), axis=0)\n",
    "    preds_arr = np.append(preds, new_image_predict, axis=0)\n",
    "    similarities, nearest_neighbors = get_nearest_neighbor_and_similarity(preds_arr, K)\n",
    "    if similarities[1] != 1:\n",
    "        score.append(similarities[1])\n",
    "    print(nearest_neighbors)\n",
    "    reference_id.append(ref_id[nearest_neighbors[1]])\n",
    "    get_similar_images(similarities, nearest_neighbors, images_arr)"
   ]
  },
  {
   "cell_type": "code",
   "execution_count": null,
   "id": "1ed2f460",
   "metadata": {},
   "outputs": [],
   "source": [
    "def get_metrics(query_id, reference_id, score):  #store into result.xlsx\n",
    "    df = pd.DataFrame()\n",
    "    df['query_id'] = pd.Series(query_id)\n",
    "    df['reference_id'] = pd.Series(reference_id)\n",
    "    df['score'] = pd.Series(score)\n",
    "    df.to_csv('results.xlsx', index=False)"
   ]
  },
  {
   "cell_type": "code",
   "execution_count": null,
   "id": "c7c8acbd",
   "metadata": {},
   "outputs": [],
   "source": [
    "all_imgs_arr = get_all_images()\n",
    "all_imgs_arr = all_imgs_arr.reshape(all_imgs_arr.shape[1], 1, 600, 600, 3)\n",
    "np.save('all_images_effb7', all_imgs_arr)\n",
    "model = create_model()\n",
    "preds_all = get_preds(all_imgs_arr)\n",
    "np.savez('images_preds_effb7', images=all_imgs_arr, preds=preds_all)"
   ]
  },
  {
   "cell_type": "code",
   "execution_count": null,
   "id": "cd2381f6",
   "metadata": {
    "pycharm": {
     "name": "#%%\n"
    }
   },
   "outputs": [],
   "source": [
    "model_file_path = r'effb7.h5'\n",
    "image_pred_path = r'images_preds_effb7.npz'\n",
    "query_path = r'Query'\n",
    "store_query(query_path)\n",
    "\n",
    "for file in os.listdir(query_path):\n",
    "    t_path = os.path.join(query_path, file)\n",
    "    main(t_path, model_file_path, image_pred_path, 1)\n",
    "\n",
    "get_metrics(query_id, reference_id, score)"
   ]
  }
 ],
 "metadata": {
  "kernelspec": {
   "display_name": "Python 3",
   "language": "python",
   "name": "python3"
  },
  "language_info": {
   "codemirror_mode": {
    "name": "ipython",
    "version": 3
   },
   "file_extension": ".py",
   "mimetype": "text/x-python",
   "name": "python",
   "nbconvert_exporter": "python",
   "pygments_lexer": "ipython3",
   "version": "3.8.8"
  }
 },
 "nbformat": 4,
 "nbformat_minor": 5
}